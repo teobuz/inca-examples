{
  "cells": [
    {
      "cell_type": "markdown",
      "metadata": {
        "id": "h4Lo8r93EpKY"
      },
      "source": [
        "[![Open In Colab](https://colab.research.google.com/assets/colab-badge.svg)](https://colab.research.google.com/github/MeteoSwiss/inca-examples/blob/main/notebooks/plotting_inca.ipynb)\n",
        "\n",
        "# Plot INCA data\n",
        "\n",
        "In this jupyter notebook, we will show how to import and plot a precipitation forecast from \n",
        "the INCA [nowcasting system](https://www.meteoswiss.admin.ch/home/services-and-publications/produkte.subpage.html/en/data/products/2021/nowcasting-inca-ch.html).\n",
        "\n",
        "## Install dependencies\n",
        "\n",
        "First, let's set up our working environment. It is recommended to use a virtual\n",
        "environment.\n",
        "\n",
        "**Important**: In Google Colab, this notebook needs to be executed one cell\n",
        "at a time. Trying to excecute all the cells at once may results in cells being \n",
        "skipped and some dependencies not being installed.\n",
        "\n",
        "Now, let's install the  dependendies that will allow us to read and visualize the \n",
        "example data. To do so, we will use two main python packages: [xarray](http://xarray.pydata.org)\n",
        "to work with labelled multi-dimensional arrays, and [matplotlib](https://matplotlib.org/) \n",
        "for visualization."
      ]
    },
    {
      "cell_type": "code",
      "execution_count": null,
      "metadata": {
        "id": "1FliAD89Eeq5"
      },
      "outputs": [],
      "source": [
        "!pip install xarray matplotlib"
      ]
    },
    {
      "cell_type": "markdown",
      "metadata": {
        "id": "fkNdiA35Ffxe"
      },
      "source": [
        "## Download the data\n",
        "\n",
        "Now that we have the environment ready, let's download an example dataset.\n",
        "\n",
        "On [Zenodo](https://zenodo.org/record/5575197), we can download the ouput from a\n",
        "single run of INCA for precipitation (mm/h)."
        "On [Zenodo](https://zenodo.org/record/6470725), we can download the ouput from a\n",
        "single run of INCA for all parameters."
      ]
    },
    {
      "cell_type": "code",
      "execution_count": null,
      "metadata": {
        "id": "LKnhNnAWFqok"
      },
      "outputs": [],
      "source": [
        "!wget https://zenodo.org/record/5575197/files/RR_INCA.nc"
      ]
    },
   
    {
      "cell_type": "markdown",
      "metadata": {
        "id": "CtdZmHPOGRVJ"
      },
      "source": [
        "## Read the data\n",
        "\n",
        "Now that we have downloaded the example data, let's import the example netCDF \n",
        "with `xarray.open_dataset()` method.\n",
        "\n",
        "The file is called `RR_INCA.nc`. \"RR\" is the product name used to identify\n",
        "the quantitative precipitation nowcasting product based on the merging between\n",
        "radar and station observations (named CombiPrecip). This product is in units of\n",
        "mm/h, it is updated every 10 minutes, and it has a 6 hour forecast range.\n",
        "\n",
        "We import this 6-hour precipitation forecast, which corresponds to a sequence of 37 \n",
        "frames of 10-min precipitation fields (1 analysis and 36 forecasts)."
      ]
    },
    {
      "cell_type": "code",
      "execution_count": null,
      "metadata": {
        "id": "CJCXSs_vGmtb"
      },
      "outputs": [],
      "source": [
        "import xarray as xr\n",
        "\n",
        "ds = xr.open_dataset(\"RR_INCA.nc\")\n",
        "ds"
      ]
    },
    {
      "cell_type": "markdown",
      "metadata": {
        "id": "c11ATNqxHApY"
      },
      "source": [
        "## Basic plotting\n",
        "\n",
        "Xarray's includes some plotting functionalities that we can use to visualize our example data."
      ]
    },
    {
      "cell_type": "code",
      "execution_count": null,
      "metadata": {
        "id": "buWpT4sCHJYQ"
      },
      "outputs": [],
      "source": [
        "precip_field = ds.RR.isel(time=0) # select the first rainfall field, that is, the analysis\n",
        "precip_field.plot()"
      ]
    },
    {
      "cell_type": "markdown",
      "metadata": {
        "id": "DDaocPi-IFEG"
      },
      "source": [
        "One can easily add transparency to the dry areas and customize the [colormap](https://matplotlib.org/stable/tutorials/colors/colormaps.html)."
      ]
    },
    {
      "cell_type": "code",
      "execution_count": null,
      "metadata": {
        "id": "fjEfb7guHUMK"
      },
      "outputs": [],
      "source": [
        "import numpy as np\n",
        "\n",
        "levels = np.logspace(-1, 2, 10, base=10)\n",
        "cmap = \"Blues\"\n",
        "precip_field.where(precip_field >= 0.1).plot(levels=levels, cmap=cmap)"
      ]
    },
    {
      "cell_type": "markdown",
      "metadata": {
        "id": "5ihL6a1nJvL6"
      },
      "source": [
        "## Plot with Cartopy\n",
        "\n",
        "[Cartopy](https://scitools.org.uk/cartopy) is a python library for plotting georeferenced datasets and maps. \n",
        "\n",
        "Installing Cartopy is a bit more involved as it requires few additonal library dependencies. Also, shapely need to be reinstalled by ignoring the binary\n",
        "wheels to make it compatible with Cartopy."
      ]
    },
    {
      "cell_type": "code",
      "execution_count": null,
      "metadata": {
        "id": "HdqXwGRmJZE7"
      },
      "outputs": [],
      "source": [
        "!apt-get install -qq libgdal-dev libgeos-dev\n",
        "!pip uninstall --yes shapely\n",
        "!pip install shapely --no-binary shapely\n",
        "!pip install cartopy pyepsg"
      ]
    },
    {
      "cell_type": "markdown",
      "metadata": {
        "id": "FRMYUd4xPuxs"
      },
      "source": [
        "We first define a method to plot reference geographical features to an existing figure axis."
      ]
    },
    {
      "cell_type": "code",
      "execution_count": null,
      "metadata": {
        "id": "G71wDhiIH2AL"
      },
      "outputs": [],
      "source": [
        "import cartopy.crs as ccrs\n",
        "import cartopy.feature as cfeature\n",
        "\n",
        "def add_geo_features(ax):\n",
        "    \"\"\"\n",
        "    Add reference geographical layers such as thenational boundaries\n",
        "    and the main lakes and rivers.\n",
        "    \"\"\"\n",
        "    ax.add_feature(\n",
        "        cfeature.NaturalEarthFeature(\n",
        "            \"cultural\",\n",
        "            \"admin_0_boundary_lines_land\",\n",
        "            scale=\"10m\",\n",
        "            edgecolor=\"black\",\n",
        "            facecolor=\"none\",\n",
        "            linewidth=1,\n",
        "        )\n",
        "    )\n",
        "    ax.add_feature(\n",
        "        cfeature.NaturalEarthFeature(\n",
        "            \"physical\",\n",
        "            \"rivers_lake_centerlines\",\n",
        "            scale=\"10m\",\n",
        "            edgecolor=np.array([0.59375, 0.71484375, 0.8828125]),\n",
        "            facecolor=\"none\",\n",
        "            linewidth=1,\n",
        "        )\n",
        "    )"
      ]
    },
    {
      "cell_type": "markdown",
      "metadata": {
        "id": "D3HFyJ3bPKva"
      },
      "source": [
        "To use Cartopy, we need to specify the source and target coordinate reference system. In our case, the Swiss coordinate system CH1903/LV03 can be identified by the [EPSG 21781](https://epsg.io/21781)."
      ]
    },
    {
      "cell_type": "code",
      "execution_count": null,
      "metadata": {
        "id": "f3qAMATSVbMV"
      },
      "outputs": [],
      "source": [
        "crs = ccrs.epsg(21781)\n",
        "\n",
        "# plot the precipitation field on the original Swiss projection\n",
        "ax = precip_field.where(precip_field > 0).plot(\n",
        "    transform=crs,\n",
        "    subplot_kws=dict(projection=crs),\n",
        "    levels=levels, \n",
        "    cmap=cmap\n",
        "    ).axes\n",
        "add_geo_features(ax)"
      ]
    },
    {
      "cell_type": "markdown",
      "metadata": {
        "id": "VyKXUvOBVbam"
      },
      "source": [
        "With Cartopy, we can easily switch to alternative geographical [projections](https://scitools.org.uk/cartopy/docs/latest/reference/crs.html#base-crs-s), here for example using Plate Carrée."
      ]
    },
    {
      "cell_type": "code",
      "execution_count": null,
      "metadata": {
        "id": "FocRYbElJ033"
      },
      "outputs": [],
      "source": [
        "# plot the precipitation field on the Plate Carrée projection\n",
        "ax = precip_field.where(precip_field > 0).plot(\n",
        "    transform=crs,\n",
        "    subplot_kws=dict(projection=ccrs.PlateCarree()),\n",
        "    levels=levels, \n",
        "    cmap=cmap\n",
        "    ).axes\n",
        "add_geo_features(ax)\n",
        "\n",
        "# draw lat lon lines\n",
        "grid_lines = ax.gridlines(\n",
        "    crs=ccrs.PlateCarree(), \n",
        "    draw_labels=True, \n",
        "    dms=True\n",
        ")\n",
        "grid_lines.top_labels = grid_lines.right_labels = False\n",
        "grid_lines.y_inline = grid_lines.x_inline = False\n",
        "grid_lines.rotate_labels = False\n",
        "\n",
        "# zoom on the map\n",
        "ax.set_extent([5.5, 11, 44.5, 49])"
      ]
    }
  ],
  "metadata": {
    "colab": {
      "collapsed_sections": [],
      "name": "MeteoSwiss_INCA_plot.ipynb",
      "provenance": [],
      "toc_visible": true
    },
    "kernelspec": {
      "display_name": "Python 3",
      "name": "python3"
    },
    "language_info": {
      "name": "python"
    }
  },
  "nbformat": 4,
  "nbformat_minor": 2
}
